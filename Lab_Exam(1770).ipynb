{
  "nbformat": 4,
  "nbformat_minor": 0,
  "metadata": {
    "colab": {
      "provenance": [],
      "authorship_tag": "ABX9TyM3frNtEHkQPyAVtxMqxHOh",
      "include_colab_link": true
    },
    "kernelspec": {
      "name": "python3",
      "display_name": "Python 3"
    },
    "language_info": {
      "name": "python"
    }
  },
  "cells": [
    {
      "cell_type": "markdown",
      "metadata": {
        "id": "view-in-github",
        "colab_type": "text"
      },
      "source": [
        "<a href=\"https://colab.research.google.com/github/2303A51770Supreeth/AIML-2024-25/blob/main/Lab_Exam(1770).ipynb\" target=\"_parent\"><img src=\"https://colab.research.google.com/assets/colab-badge.svg\" alt=\"Open In Colab\"/></a>"
      ]
    },
    {
      "cell_type": "code",
      "execution_count": null,
      "metadata": {
        "id": "fUmUgaAP3vsN"
      },
      "outputs": [],
      "source": []
    },
    {
      "cell_type": "markdown",
      "source": [
        "prediction of recipe reviews and feedback\n",
        "\n",
        "Q1. Identify the recipe most appreciated?\n",
        "\n",
        "Q2. List the top 5 recipe prepared the most?\n",
        "\n",
        "Q3. Identify the recipe with the most users delight?\n",
        "\n",
        "Q4. Name the recipe with highest reputation?\n",
        "\n",
        "Q5. Most ordered recipes among the 100 recipes list?\n"
      ],
      "metadata": {
        "id": "XPIArts24lDO"
      }
    },
    {
      "cell_type": "markdown",
      "source": [],
      "metadata": {
        "id": "cSp1fHv65cSB"
      }
    },
    {
      "cell_type": "code",
      "source": [
        "import pandas as pd\n",
        "from google.colab import files"
      ],
      "metadata": {
        "id": "_J3Oh-W2_5ol"
      },
      "execution_count": 15,
      "outputs": []
    },
    {
      "cell_type": "code",
      "source": [
        "csv_file_path = '/content/Recipe Reviews and User Feedback Dataset.csv'\n",
        "data = pd.read_csv(csv_file_path)"
      ],
      "metadata": {
        "id": "kC3pV4Kz_8Qo"
      },
      "execution_count": 16,
      "outputs": []
    },
    {
      "cell_type": "code",
      "source": [
        "most_appreciated = (\n",
        "    data.groupby('recipe_name')['stars']\n",
        "    .mean()\n",
        "    .idxmax()\n",
        ")\n"
      ],
      "metadata": {
        "id": "TpC2HOSQ_-0F"
      },
      "execution_count": 17,
      "outputs": []
    },
    {
      "cell_type": "code",
      "source": [
        "top_prepared = (\n",
        "    data['recipe_name']\n",
        "    .value_counts()\n",
        "    .head(5)\n",
        ")"
      ],
      "metadata": {
        "id": "NVgxpIAqAFgr"
      },
      "execution_count": 18,
      "outputs": []
    },
    {
      "cell_type": "code",
      "source": [
        "most_delight = (\n",
        "    data.groupby('recipe_name')['thumbs_up']\n",
        "    .sum()\n",
        "    .idxmax()\n",
        ")\n"
      ],
      "metadata": {
        "id": "2aghwWUTAHwm"
      },
      "execution_count": 19,
      "outputs": []
    },
    {
      "cell_type": "code",
      "source": [
        "highest_reputation = (\n",
        "    data.groupby('recipe_name')['user_reputation']\n",
        "    .mean()\n",
        "    .idxmax()\n",
        ")\n"
      ],
      "metadata": {
        "id": "V2BlMpKfAK7h"
      },
      "execution_count": 20,
      "outputs": []
    },
    {
      "cell_type": "code",
      "source": [
        "top_100_recipes = data['recipe_name'].value_counts().head(100)"
      ],
      "metadata": {
        "id": "vHRaQhOqAiMI"
      },
      "execution_count": 21,
      "outputs": []
    },
    {
      "cell_type": "code",
      "source": [
        "print(\"Q1: Recipe Most Appreciated:\", most_appreciated)\n",
        "print(\"\\nQ2: Top 5 Recipes Prepared the Most:\")\n",
        "print(top_prepared)\n",
        "print(\"\\nQ3: Recipe with the Most Users' Delight:\", most_delight)\n",
        "print(\"\\nQ4: Recipe with the Highest Reputation:\", highest_reputation)\n",
        "print(\"\\nQ5: Most Ordered Recipes (Top 5 from 100):\")\n",
        "print(top_100_recipes.head())"
      ],
      "metadata": {
        "colab": {
          "base_uri": "https://localhost:8080/"
        },
        "id": "2j5y6h8RAkeX",
        "outputId": "50e77080-6ea0-4ed2-9a84-32833009a30f"
      },
      "execution_count": 22,
      "outputs": [
        {
          "output_type": "stream",
          "name": "stdout",
          "text": [
            "Q1: Recipe Most Appreciated: Rustic Italian Tortellini Soup\n",
            "\n",
            "Q2: Top 5 Recipes Prepared the Most:\n",
            "recipe_name\n",
            "Cheeseburger Soup         725\n",
            "Creamy White Chili        654\n",
            "Best Ever Banana Bread    509\n",
            "Enchilada Casser-Ole!     421\n",
            "Basic Homemade Bread      397\n",
            "Name: count, dtype: int64\n",
            "\n",
            "Q3: Recipe with the Most Users' Delight: Amish Breakfast Casserole\n",
            "\n",
            "Q4: Recipe with the Highest Reputation: Quick Cream of Mushroom Soup\n",
            "\n",
            "Q5: Most Ordered Recipes (Top 5 from 100):\n",
            "recipe_name\n",
            "Cheeseburger Soup         725\n",
            "Creamy White Chili        654\n",
            "Best Ever Banana Bread    509\n",
            "Enchilada Casser-Ole!     421\n",
            "Basic Homemade Bread      397\n",
            "Name: count, dtype: int64\n"
          ]
        }
      ]
    }
  ]
}